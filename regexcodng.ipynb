{
 "cells": [
  {
   "cell_type": "code",
   "execution_count": 9,
   "id": "respected-qatar",
   "metadata": {},
   "outputs": [
    {
     "name": "stdout",
     "output_type": "stream",
     "text": [
      "Enter number of rows: 6\n",
      "5  5  5  5  5  5  \n",
      "5  5  5  5  5  \n",
      "5  5  5  5  \n",
      "5  5  5  \n",
      "5  5  \n",
      "5  \n"
     ]
    }
   ],
   "source": [
    "rows = int(input(\"Enter number of rows: \"))\n",
    "\n",
    "for i in range(rows, 0, -1):\n",
    "    for j in range(0, i):\n",
    "        print(\"5 \", end=\" \")\n",
    "    \n",
    "    print(\"\")"
   ]
  },
  {
   "cell_type": "code",
   "execution_count": 10,
   "id": "acting-layout",
   "metadata": {},
   "outputs": [
    {
     "name": "stdout",
     "output_type": "stream",
     "text": [
      "Enter number of rows: 6\n",
      "0 1 2 3 4 5 \n",
      "0 1 2 3 4 \n",
      "0 1 2 3 \n",
      "0 1 2 \n",
      "0 1 \n"
     ]
    }
   ],
   "source": [
    "n = int(input(\"Enter number of rows: \"))\n",
    "\n",
    "for i in range(n-1,0,-1):\n",
    "    for j in range(0, i+1):\n",
    "        print(j, end=\" \")\n",
    "    print(\"\")"
   ]
  },
  {
   "cell_type": "code",
   "execution_count": 1,
   "id": "occupied-pepper",
   "metadata": {},
   "outputs": [
    {
     "name": "stdout",
     "output_type": "stream",
     "text": [
      "Enter number of rows: 6\n",
      "* * * * * * * * * \n",
      "  * * * * * * * \n",
      "    * * * * * \n",
      "      * * * \n",
      "        * \n"
     ]
    }
   ],
   "source": [
    "rows = int(input(\"Enter number of rows: \"))\n",
    "\n",
    "for i in range(rows, 1, -1):\n",
    "    for space in range(0, rows-i):\n",
    "        print(\"  \", end=\"\")\n",
    "    for j in range(i, 2*i-1):\n",
    "        print(\"* \", end=\"\")\n",
    "    for j in range(1, i-1):\n",
    "        print(\"* \", end=\"\")\n",
    "    print()"
   ]
  },
  {
   "cell_type": "code",
   "execution_count": 12,
   "id": "driven-opposition",
   "metadata": {},
   "outputs": [
    {
     "name": "stdout",
     "output_type": "stream",
     "text": [
      "Enter number of rows: 6\n",
      "* \n",
      "* * \n",
      "* * * \n",
      "* * * * \n",
      "* * * * * \n",
      "* * * * * * \n",
      "* * * * * * \n",
      "* * * * * \n",
      "* * * * \n",
      "* * * \n",
      "* * \n",
      "* \n"
     ]
    }
   ],
   "source": [
    "rows = int(input(\"Enter number of rows: \"))\n",
    "\n",
    "for i in range(rows):\n",
    "    for j in range(i+1):\n",
    "        print(\"* \", end=\"\")\n",
    "    print(\"\")\n",
    "for k in range(rows, 0, -1):\n",
    "    for l in range(0, k):\n",
    "        print(\"*\", end=\" \")\n",
    "    print(\"\")"
   ]
  },
  {
   "cell_type": "code",
   "execution_count": 1,
   "id": "thrown-edition",
   "metadata": {},
   "outputs": [
    {
     "name": "stdout",
     "output_type": "stream",
     "text": [
      "Enter number of rows: 5\n",
      "1 \n",
      "3 3 \n",
      "5 5 5 \n",
      "7 7 7 7 \n",
      "9 9 9 9 9 \n"
     ]
    }
   ],
   "source": [
    "rows = int(input(\"Enter number of rows: \"))\n",
    "i = 1\n",
    "while i <= rows:\n",
    "    j = 1\n",
    "    while j <= i:\n",
    "        print((i*2-1), end=' ')\n",
    "        j = j + 1\n",
    "    i = i + 1\n",
    "    print()"
   ]
  },
  {
   "cell_type": "code",
   "execution_count": 2,
   "id": "expressed-whole",
   "metadata": {},
   "outputs": [
    {
     "name": "stdout",
     "output_type": "stream",
     "text": [
      "Enter number of rows: 6\n",
      "1 \n",
      "2 1 \n",
      "3 2 1 \n",
      "4 3 2 1 \n",
      "5 4 3 2 1 \n"
     ]
    }
   ],
   "source": [
    "rows = int(input(\"Enter number of rows: \"))\n",
    "for i in range(1, rows):\n",
    "    for j in range(i, 0, -1):\n",
    "        print(j, end=' ')\n",
    "    print()"
   ]
  },
  {
   "cell_type": "code",
   "execution_count": 3,
   "id": "cellular-tackle",
   "metadata": {},
   "outputs": [
    {
     "name": "stdout",
     "output_type": "stream",
     "text": [
      "1 \n",
      "3 2 \n",
      "6 5 4 \n",
      "10 9 8 7 \n"
     ]
    }
   ],
   "source": [
    "a = 1\n",
    "b = 2\n",
    "currentNumber = b\n",
    "for row in range(2, 6):\n",
    "    for col in range(a, b):\n",
    "        currentNumber -= 1\n",
    "        print(currentNumber, end=' ')\n",
    "    print()\n",
    "    a = b\n",
    "    b += row\n",
    "    currentNumber = b"
   ]
  },
  {
   "cell_type": "code",
   "execution_count": 4,
   "id": "sharing-cholesterol",
   "metadata": {},
   "outputs": [
    {
     "name": "stdout",
     "output_type": "stream",
     "text": [
      "Enter the number of rows: 5\n",
      "1 2 3 4 5 \n",
      "2 2 3 4 5 \n",
      "3 3 3 4 5 \n",
      "4 4 4 4 5 \n",
      "5 5 5 5 5 \n"
     ]
    }
   ],
   "source": [
    "rows = int(input(\"Enter the number of rows: \"))  \n",
    "for i in range(1, rows + 1):  \n",
    "    for j in range(1, rows + 1):  \n",
    "        if j <= i:  \n",
    "            print(i, end=' ')  \n",
    "        else:  \n",
    "            print(j, end=' ')  \n",
    "    print()"
   ]
  },
  {
   "cell_type": "code",
   "execution_count": 5,
   "id": "organic-parks",
   "metadata": {},
   "outputs": [
    {
     "name": "stdout",
     "output_type": "stream",
     "text": [
      "* \r\n",
      "* * \r\n",
      "* * * \r\n",
      "* * * * \r\n",
      "* * * * * \r\n",
      "* * * * * * \r\n",
      "* * * * * \r\n",
      "* * * * \r\n",
      "* * * \r\n",
      "* * \r\n"
     ]
    }
   ],
   "source": [
    "def pattern(n):\n",
    "      for i in range(0, n):\n",
    "           for j in range(0, i + 1):\n",
    "                print(\"* \", end=\"\")\n",
    "           print(\"\\r\")\n",
    "      for i in range(n, 0 , -1):\n",
    "          for j in range(0, i + 1):\n",
    "               print(\"* \", end=\"\")\n",
    "          print(\"\\r\")\n",
    " \n",
    "pattern(5)\n"
   ]
  },
  {
   "cell_type": "code",
   "execution_count": 6,
   "id": "familiar-country",
   "metadata": {},
   "outputs": [
    {
     "name": "stdout",
     "output_type": "stream",
     "text": [
      "        * \r\n",
      "      * * \r\n",
      "    * * * \r\n",
      "  * * * * \r\n",
      "* * * * * \r\n",
      "  * * * * \r\n",
      "    * * * \r\n",
      "      * * \r\n",
      "        * \r\n"
     ]
    }
   ],
   "source": [
    "def pattern(n):\n",
    "    k = 2 * n - 2\n",
    "    for i in range(0, n-1):\n",
    "        for j in range(0, k):\n",
    "            print(end=\" \")\n",
    "        k = k - 2\n",
    "        for j in range(0, i + 1):\n",
    "            print(\"* \", end=\"\")\n",
    "        print(\"\\r\")\n",
    "    k = -1\n",
    "    for i in range(n-1,-1,-1):\n",
    "        for j in range(k,-1,-1):\n",
    "            print(end=\" \")\n",
    "        k = k + 2\n",
    "        for j in range(0, i + 1):\n",
    "            print(\"* \", end=\"\")\n",
    "        print(\"\\r\")\n",
    " \n",
    " \n",
    "pattern(5)"
   ]
  },
  {
   "cell_type": "code",
   "execution_count": 7,
   "id": "soviet-poultry",
   "metadata": {},
   "outputs": [
    {
     "name": "stdout",
     "output_type": "stream",
     "text": [
      "* * * * * \n",
      " * * * * \n",
      "  * * * \n",
      "   * * \n",
      "    * \n",
      "    * \n",
      "   * * \n",
      "  * * * \n",
      " * * * * \n",
      "* * * * * \n"
     ]
    }
   ],
   "source": [
    "rows = 5\n",
    "i = 0\n",
    "while i <= rows - 1:\n",
    "    j = 0\n",
    "    while j < i:\n",
    "        # display space\n",
    "        print('', end=' ')\n",
    "        j += 1\n",
    "    k = i\n",
    "    while k <= rows - 1:\n",
    "        print('*', end=' ')\n",
    "        k += 1\n",
    "    print()\n",
    "    i += 1\n",
    "\n",
    "i = rows - 1\n",
    "while i >= 0:\n",
    "    j = 0\n",
    "    while j < i:\n",
    "        print('', end=' ')\n",
    "        j += 1\n",
    "    k = i\n",
    "    while k <= rows - 1:\n",
    "        print('*', end=' ')\n",
    "        k += 1\n",
    "    print('')\n",
    "    i -= 1"
   ]
  },
  {
   "cell_type": "code",
   "execution_count": 8,
   "id": "peripheral-england",
   "metadata": {},
   "outputs": [
    {
     "name": "stdout",
     "output_type": "stream",
     "text": [
      "**************\n",
      "******__******\n",
      "*****____*****\n",
      "****______****\n",
      "***________***\n",
      "**__________**\n",
      "*____________*\n"
     ]
    }
   ],
   "source": [
    "rows = 14\n",
    "print(\"*\" * rows, end=\"\\n\")\n",
    "i = (rows // 2) - 1\n",
    "j = 2\n",
    "while i != 0:\n",
    "    while j <= (rows - 2):\n",
    "        print(\"*\" * i, end=\"\")\n",
    "        print(\"_\" * j, end=\"\")\n",
    "        print(\"*\" * i, end=\"\\n\")\n",
    "        i = i - 1\n",
    "        j = j + 2"
   ]
  },
  {
   "cell_type": "code",
   "execution_count": 13,
   "id": "joint-angel",
   "metadata": {},
   "outputs": [
    {
     "name": "stdout",
     "output_type": "stream",
     "text": [
      "Enter the number of rows: 7\n",
      "            *   \n",
      "           *  *   \n",
      "          *  *  *   \n",
      "         *  *  *  *   \n",
      "        *  *  *  *  *   \n",
      "       *  *  *  *  *  *   \n",
      "      *  *  *  *  *  *  *   \n"
     ]
    }
   ],
   "source": [
    "n = int(input(\"Enter the number of rows: \"))  \n",
    "m = (2 * n) - 2  \n",
    "for i in range(0, n):  \n",
    "    for j in range(0, m):  \n",
    "        print(end=\" \")  \n",
    "    m = m - 1  # decrementing m after each loop  \n",
    "    for j in range(0, i + 1):  \n",
    "        # printing full Triangle pyramid using stars  \n",
    "        print(\"* \", end=' ')  \n",
    "    print(\" \")"
   ]
  },
  {
   "cell_type": "code",
   "execution_count": 14,
   "id": "challenging-color",
   "metadata": {},
   "outputs": [
    {
     "name": "stdout",
     "output_type": "stream",
     "text": [
      "1  \n",
      "1  1  \n",
      "1  2  1  \n",
      "1  3  3  1  \n",
      "1  4  6  4  1  \n",
      "1  5  10  10  5  1  \n",
      "1  6  15  20  15  6  1  \n"
     ]
    }
   ],
   "source": [
    "def pascal(n):\n",
    "    for i in range(0, n):\n",
    "        for j in range(0, i + 1):\n",
    "            print(function(i, j),\" \", end=\"\")\n",
    "        print()\n",
    " \n",
    "def function(n, k):\n",
    "    res = 1\n",
    "    if (k > n - k):\n",
    "        k = n - k\n",
    "    for i in range(0, k):\n",
    "        res = res * (n - i)\n",
    "        res = res // (i + 1)\n",
    " \n",
    "    return res\n",
    " \n",
    "pascal(7)"
   ]
  },
  {
   "cell_type": "code",
   "execution_count": 15,
   "id": "smoking-metro",
   "metadata": {},
   "outputs": [
    {
     "name": "stdout",
     "output_type": "stream",
     "text": [
      "Enter the number of rows: 8\n",
      "1  \n",
      "2  4  \n",
      "3  6  9  \n",
      "4  8  12  16  \n",
      "5  10  15  20  25  \n",
      "6  12  18  24  30  36  \n",
      "7  14  21  28  35  42  49  \n",
      "8  16  24  32  40  48  56  64  \n"
     ]
    }
   ],
   "source": [
    "rows = int(input(\"Enter the number of rows: \"))  \n",
    "for i in range(1, rows+1):  \n",
    "    for j in range(1, i + 1):  \n",
    "        print(i * j, end='  ')  \n",
    "    print()"
   ]
  },
  {
   "cell_type": "code",
   "execution_count": null,
   "id": "permanent-fitting",
   "metadata": {},
   "outputs": [],
   "source": []
  }
 ],
 "metadata": {
  "kernelspec": {
   "display_name": "Python 3",
   "language": "python",
   "name": "python3"
  },
  "language_info": {
   "codemirror_mode": {
    "name": "ipython",
    "version": 3
   },
   "file_extension": ".py",
   "mimetype": "text/x-python",
   "name": "python",
   "nbconvert_exporter": "python",
   "pygments_lexer": "ipython3",
   "version": "3.6.13"
  }
 },
 "nbformat": 4,
 "nbformat_minor": 5
}
